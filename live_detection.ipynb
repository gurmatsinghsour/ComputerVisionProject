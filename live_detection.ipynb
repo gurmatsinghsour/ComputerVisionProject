{
 "cells": [
  {
   "cell_type": "markdown",
   "id": "6fe3c3bc",
   "metadata": {},
   "source": [
    "# Live Webcam Road Sign Detection\n",
    "\n",
    "Real-time road sign detection using your webcam and the trained YOLOv8 model.\n",
    "\n",
    "**Requirements**: Make sure you have a working webcam connected to your computer.\n",
    "\n",
    "**Controls**:\n",
    "- Press 'q' to quit\n",
    "- Press 's' to save current frame\n",
    "- Press 'r' to toggle recording"
   ]
  },
  {
   "cell_type": "markdown",
   "id": "8d94e98c",
   "metadata": {},
   "source": [
    "## Setup and Import Libraries"
   ]
  },
  {
   "cell_type": "code",
   "execution_count": 1,
   "id": "c98a5ef2",
   "metadata": {},
   "outputs": [
    {
     "name": "stdout",
     "output_type": "stream",
     "text": [
      "Libraries imported successfully!\n",
      "OpenCV version: 4.12.0\n"
     ]
    }
   ],
   "source": [
    "import cv2\n",
    "import numpy as np\n",
    "from ultralytics import YOLO\n",
    "import time\n",
    "import os\n",
    "\n",
    "print(\"Libraries imported successfully!\")\n",
    "print(\"OpenCV version:\", cv2.__version__)"
   ]
  },
  {
   "cell_type": "markdown",
   "id": "d1e7bfc5",
   "metadata": {},
   "source": [
    "## Load the Trained Model"
   ]
  },
  {
   "cell_type": "code",
   "execution_count": 2,
   "id": "18b00043",
   "metadata": {},
   "outputs": [
    {
     "name": "stdout",
     "output_type": "stream",
     "text": [
      "Road sign detection model loaded successfully!\n",
      "Model can detect: speedlimit, stop, trafficlight, crosswalk\n"
     ]
    }
   ],
   "source": [
    "model = YOLO(\"models/road_sign_detector_final.pt\")\n",
    "print(\"Road sign detection model loaded successfully!\")\n",
    "\n",
    "class_names = ['speedlimit', 'stop', 'trafficlight', 'crosswalk']\n",
    "colors = [(255, 0, 0), (0, 255, 0), (0, 0, 255), (255, 255, 0)]  # BGR colors for each class\n",
    "\n",
    "print(f\"Model can detect: {', '.join(class_names)}\")"
   ]
  },
  {
   "cell_type": "markdown",
   "id": "9700a725",
   "metadata": {},
   "source": [
    "## Test Webcam Connection"
   ]
  },
  {
   "cell_type": "code",
   "execution_count": 4,
   "id": "37812e02",
   "metadata": {},
   "outputs": [
    {
     "name": "stdout",
     "output_type": "stream",
     "text": [
      "Webcam connected successfully!\n",
      "Webcam resolution: 1920x1080\n",
      "Webcam test completed.\n"
     ]
    }
   ],
   "source": [
    "cap = cv2.VideoCapture(0)\n",
    "\n",
    "if not cap.isOpened():\n",
    "    print(\"Error: Could not open webcam\")\n",
    "    print(\"Make sure your webcam is connected and not being used by another application\")\n",
    "else:\n",
    "    print(\"Webcam connected successfully!\")\n",
    "    \n",
    "    ret, frame = cap.read()\n",
    "    if ret:\n",
    "        height, width = frame.shape[:2]\n",
    "        print(f\"Webcam resolution: {width}x{height}\")\n",
    "    \n",
    "    cap.release()\n",
    "    print(\"Webcam test completed.\")"
   ]
  },
  {
   "cell_type": "markdown",
   "id": "bcdce8d7",
   "metadata": {},
   "source": [
    "## Simple Live Detection (Basic Version)\n",
    "\n",
    "Basic webcam detection with simple display:"
   ]
  },
  {
   "cell_type": "code",
   "execution_count": 5,
   "id": "8d638c45",
   "metadata": {},
   "outputs": [
    {
     "name": "stdout",
     "output_type": "stream",
     "text": [
      "Starting basic live detection...\n",
      "Press 'q' to quit\n",
      "Basic detection stopped.\n"
     ]
    }
   ],
   "source": [
    "cap = cv2.VideoCapture(0)\n",
    "frame_count = 0\n",
    "\n",
    "print(\"Starting basic live detection...\")\n",
    "print(\"Press 'q' to quit\")\n",
    "\n",
    "try:\n",
    "    while True:\n",
    "        ret, frame = cap.read()\n",
    "        if not ret:\n",
    "            print(\"Failed to grab frame\")\n",
    "            break\n",
    "        \n",
    "        frame_count += 1\n",
    "        \n",
    "        # Run detection every few frames to improve performance\n",
    "        if frame_count % 3 == 0:\n",
    "            results = model(frame, verbose=False)\n",
    "            \n",
    "            # Draw detections\n",
    "            for result in results:\n",
    "                boxes = result.boxes\n",
    "                if boxes is not None:\n",
    "                    for box in boxes:\n",
    "                        # Get box coordinates\n",
    "                        x1, y1, x2, y2 = map(int, box.xyxy[0])\n",
    "                        confidence = float(box.conf[0])\n",
    "                        class_id = int(box.cls[0])\n",
    "                        \n",
    "                        if confidence > 0.5:  # Only show confident detections\n",
    "                            # Draw bounding box\n",
    "                            color = colors[class_id]\n",
    "                            cv2.rectangle(frame, (x1, y1), (x2, y2), color, 2)\n",
    "                            \n",
    "                            # Draw label\n",
    "                            label = f\"{class_names[class_id]}: {confidence:.2f}\"\n",
    "                            cv2.putText(frame, label, (x1, y1-10), \n",
    "                                       cv2.FONT_HERSHEY_SIMPLEX, 0.5, color, 2)\n",
    "        \n",
    "        # Display frame\n",
    "        cv2.imshow('Road Sign Detection - Press q to quit', frame)\n",
    "        \n",
    "        # Check for quit\n",
    "        if cv2.waitKey(1) & 0xFF == ord('q'):\n",
    "            break\n",
    "\n",
    "except KeyboardInterrupt:\n",
    "    print(\"Detection interrupted by user\")\n",
    "\n",
    "finally:\n",
    "    cap.release()\n",
    "    cv2.destroyAllWindows()\n",
    "    print(\"Basic detection stopped.\")"
   ]
  },
  {
   "cell_type": "markdown",
   "id": "162cc113",
   "metadata": {},
   "source": [
    "## Advanced Live Detection with Features\n",
    "\n",
    "Enhanced version with FPS counter, save functionality, and better visualization:"
   ]
  },
  {
   "cell_type": "code",
   "execution_count": null,
   "id": "ee4a0b2b",
   "metadata": {},
   "outputs": [
    {
     "name": "stdout",
     "output_type": "stream",
     "text": [
      "Starting advanced live detection...\n",
      "Controls:\n",
      "  'q' - Quit\n",
      "  's' - Save current frame with detections\n",
      "  'c' - Clear saved frame counter\n"
     ]
    }
   ],
   "source": [
    "cap = cv2.VideoCapture(0)\n",
    "frame_count = 0\n",
    "start_time = time.time()\n",
    "fps = 0\n",
    "saved_count = 0\n",
    "\n",
    "# Create results directory if it doesn't exist\n",
    "os.makedirs(\"results/live_detection\", exist_ok=True)\n",
    "\n",
    "print(\"Starting advanced live detection...\")\n",
    "print(\"Controls:\")\n",
    "print(\"  'q' - Quit\")\n",
    "print(\"  's' - Save current frame with detections\")\n",
    "print(\"  'c' - Clear saved frame counter\")\n",
    "\n",
    "try:\n",
    "    while True:\n",
    "        ret, frame = cap.read()\n",
    "        if not ret:\n",
    "            print(\"Failed to grab frame\")\n",
    "            break\n",
    "        \n",
    "        frame_count += 1\n",
    "        \n",
    "        # Calculate FPS\n",
    "        if frame_count % 30 == 0:\n",
    "            end_time = time.time()\n",
    "            fps = 30 / (end_time - start_time)\n",
    "            start_time = end_time\n",
    "        \n",
    "        # Run detection\n",
    "        if frame_count % 2 == 0:  # Process every 2nd frame for better performance\n",
    "            results = model(frame, verbose=False)\n",
    "            detection_count = 0\n",
    "            \n",
    "            # Draw detections\n",
    "            for result in results:\n",
    "                boxes = result.boxes\n",
    "                if boxes is not None:\n",
    "                    for box in boxes:\n",
    "                        x1, y1, x2, y2 = map(int, box.xyxy[0])\n",
    "                        confidence = float(box.conf[0])\n",
    "                        class_id = int(box.cls[0])\n",
    "                        \n",
    "                        if confidence > 0.3:  # Lower threshold for live detection\n",
    "                            detection_count += 1\n",
    "                            \n",
    "                            # Draw bounding box with thickness based on confidence\n",
    "                            thickness = int(3 * confidence)\n",
    "                            color = colors[class_id]\n",
    "                            cv2.rectangle(frame, (x1, y1), (x2, y2), color, thickness)\n",
    "                            \n",
    "                            # Draw label with background\n",
    "                            label = f\"{class_names[class_id]}: {confidence:.2f}\"\n",
    "                            (text_width, text_height), _ = cv2.getTextSize(label, cv2.FONT_HERSHEY_SIMPLEX, 0.6, 2)\n",
    "                            \n",
    "                            # Background rectangle for text\n",
    "                            cv2.rectangle(frame, (x1, y1-text_height-10), (x1+text_width, y1), color, -1)\n",
    "                            cv2.putText(frame, label, (x1, y1-5), \n",
    "                                       cv2.FONT_HERSHEY_SIMPLEX, 0.6, (255, 255, 255), 2)\n",
    "        \n",
    "        # Draw info overlay\n",
    "        info_text = f\"FPS: {fps:.1f} | Detections: {detection_count if 'detection_count' in locals() else 0} | Saved: {saved_count}\"\n",
    "        cv2.putText(frame, info_text, (10, 30), cv2.FONT_HERSHEY_SIMPLEX, 0.7, (0, 255, 0), 2)\n",
    "        \n",
    "        # Draw instructions\n",
    "        cv2.putText(frame, \"Press 'q' to quit, 's' to save\", (10, frame.shape[0]-10), \n",
    "                   cv2.FONT_HERSHEY_SIMPLEX, 0.5, (255, 255, 255), 1)\n",
    "        \n",
    "        # Display frame\n",
    "        cv2.imshow('Advanced Road Sign Detection', frame)\n",
    "        \n",
    "        # Handle key presses\n",
    "        key = cv2.waitKey(1) & 0xFF\n",
    "        if key == ord('q'):\n",
    "            break\n",
    "        elif key == ord('s'):\n",
    "            saved_count += 1\n",
    "            save_path = f\"results/live_detection/detection_{saved_count:03d}.jpg\"\n",
    "            cv2.imwrite(save_path, frame)\n",
    "            print(f\"Frame saved: {save_path}\")\n",
    "        elif key == ord('c'):\n",
    "            saved_count = 0\n",
    "            print(\"Saved frame counter reset\")\n",
    "\n",
    "except KeyboardInterrupt:\n",
    "    print(\"Detection interrupted by user\")\n",
    "\n",
    "finally:\n",
    "    cap.release()\n",
    "    cv2.destroyAllWindows()\n",
    "    print(f\"Advanced detection stopped. Total frames saved: {saved_count}\")"
   ]
  },
  {
   "cell_type": "markdown",
   "id": "bd9677bb",
   "metadata": {},
   "source": [
    "## Video File Detection\n",
    "\n",
    "Process a video file instead of live webcam:"
   ]
  },
  {
   "cell_type": "code",
   "execution_count": null,
   "id": "a099fbf2",
   "metadata": {},
   "outputs": [],
   "source": [
    "video_path = \"your_video.mp4\"  # Replace with your video file path\n",
    "\n",
    "if os.path.exists(video_path):\n",
    "    cap = cv2.VideoCapture(video_path)\n",
    "    \n",
    "    # Get video properties\n",
    "    fps = int(cap.get(cv2.CAP_PROP_FPS))\n",
    "    width = int(cap.get(cv2.CAP_PROP_FRAME_WIDTH))\n",
    "    height = int(cap.get(cv2.CAP_PROP_FRAME_HEIGHT))\n",
    "    total_frames = int(cap.get(cv2.CAP_PROP_FRAME_COUNT))\n",
    "    \n",
    "    print(f\"Video: {width}x{height} at {fps} FPS, {total_frames} frames\")\n",
    "    \n",
    "    # Optional: Save output video\n",
    "    output_path = \"results/processed_video.mp4\"\n",
    "    fourcc = cv2.VideoWriter_fourcc(*'mp4v')\n",
    "    out = cv2.VideoWriter(output_path, fourcc, fps, (width, height))\n",
    "    \n",
    "    frame_num = 0\n",
    "    \n",
    "    try:\n",
    "        while True:\n",
    "            ret, frame = cap.read()\n",
    "            if not ret:\n",
    "                break\n",
    "            \n",
    "            frame_num += 1\n",
    "            \n",
    "            # Progress indicator\n",
    "            if frame_num % 30 == 0:\n",
    "                progress = (frame_num / total_frames) * 100\n",
    "                print(f\"Processing: {progress:.1f}% ({frame_num}/{total_frames})\")\n",
    "            \n",
    "            # Run detection\n",
    "            results = model(frame, verbose=False)\n",
    "            \n",
    "            # Draw detections\n",
    "            for result in results:\n",
    "                boxes = result.boxes\n",
    "                if boxes is not None:\n",
    "                    for box in boxes:\n",
    "                        x1, y1, x2, y2 = map(int, box.xyxy[0])\n",
    "                        confidence = float(box.conf[0])\n",
    "                        class_id = int(box.cls[0])\n",
    "                        \n",
    "                        if confidence > 0.5:\n",
    "                            color = colors[class_id]\n",
    "                            cv2.rectangle(frame, (x1, y1), (x2, y2), color, 2)\n",
    "                            \n",
    "                            label = f\"{class_names[class_id]}: {confidence:.2f}\"\n",
    "                            cv2.putText(frame, label, (x1, y1-10), \n",
    "                                       cv2.FONT_HERSHEY_SIMPLEX, 0.6, color, 2)\n",
    "            \n",
    "            # Write frame to output video\n",
    "            out.write(frame)\n",
    "            \n",
    "            # Display frame (optional - comment out for faster processing)\n",
    "            cv2.imshow('Video Processing', frame)\n",
    "            if cv2.waitKey(1) & 0xFF == ord('q'):\n",
    "                break\n",
    "    \n",
    "    except KeyboardInterrupt:\n",
    "        print(\"Video processing interrupted\")\n",
    "    \n",
    "    finally:\n",
    "        cap.release()\n",
    "        out.release()\n",
    "        cv2.destroyAllWindows()\n",
    "        print(f\"Video processing complete. Output saved to: {output_path}\")\n",
    "\n",
    "else:\n",
    "    print(f\"Video file not found: {video_path}\")\n",
    "    print(\"Update the video_path variable with your video file location\")"
   ]
  },
  {
   "cell_type": "markdown",
   "id": "2be34aa5",
   "metadata": {},
   "source": [
    "## Troubleshooting\n",
    "\n",
    "If you encounter issues:\n",
    "\n",
    "### Webcam Not Working:\n",
    "- Make sure no other applications are using the webcam\n",
    "- Try different camera indices: `cv2.VideoCapture(1)` or `cv2.VideoCapture(2)`\n",
    "- Check camera permissions in System Preferences (macOS) or Settings (Windows)\n",
    "\n",
    "### Performance Issues:\n",
    "- Increase frame skipping: change `frame_count % 3 == 0` to `frame_count % 5 == 0`\n",
    "- Reduce video resolution\n",
    "- Lower confidence threshold\n",
    "\n",
    "### OpenCV Issues:\n",
    "```bash\n",
    "pip install opencv-python\n",
    "# or if you have conda:\n",
    "conda install opencv\n",
    "```"
   ]
  }
 ],
 "metadata": {
  "kernelspec": {
   "display_name": "yolov8_env",
   "language": "python",
   "name": "python3"
  },
  "language_info": {
   "codemirror_mode": {
    "name": "ipython",
    "version": 3
   },
   "file_extension": ".py",
   "mimetype": "text/x-python",
   "name": "python",
   "nbconvert_exporter": "python",
   "pygments_lexer": "ipython3",
   "version": "3.13.5"
  }
 },
 "nbformat": 4,
 "nbformat_minor": 5
}
