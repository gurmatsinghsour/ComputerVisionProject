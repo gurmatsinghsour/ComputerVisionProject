{
 "cells": [
  {
   "cell_type": "markdown",
   "id": "a8965390",
   "metadata": {},
   "source": [
    "# YOLOv8 Road Sign Detection Model\n",
    "\n",
    "This notebook loads and uses our trained YOLOv8 model for road sign detection.\n",
    "\n",
    "**Model Performance**: 94.3% mAP50  \n",
    "**Classes**: speedlimit, stop, trafficlight, crosswalk"
   ]
  },
  {
   "cell_type": "code",
   "execution_count": 15,
   "id": "df587717",
   "metadata": {},
   "outputs": [
    {
     "name": "stdout",
     "output_type": "stream",
     "text": [
      "Road sign detection model loaded successfully!\n",
      "Can detect: speedlimit, stop, trafficlight, crosswalk\n"
     ]
    }
   ],
   "source": [
    "from ultralytics import YOLO\n",
    "\n",
    "model = YOLO(\"models/road_sign_detector_final.pt\")\n",
    "print(\"Road sign detection model loaded successfully!\")\n",
    "print(\"Can detect: speedlimit, stop, trafficlight, crosswalk\")"
   ]
  },
  {
   "cell_type": "markdown",
   "id": "8dd02853",
   "metadata": {},
   "source": [
    "## Single Image Prediction\n",
    "\n",
    "Test the model on a single image:"
   ]
  },
  {
   "cell_type": "code",
   "execution_count": 17,
   "id": "71dc24e8",
   "metadata": {},
   "outputs": [
    {
     "name": "stdout",
     "output_type": "stream",
     "text": [
      "File not found: test_prediction.jpg\n"
     ]
    }
   ],
   "source": [
    "import os\n",
    "\n",
    "test_image = \"test_prediction.jpg\"\n",
    "\n",
    "if os.path.exists(test_image):\n",
    "\tresults = model(test_image)\n",
    "\tresults[0].show()\n",
    "\tresults[0].save(\"road_sign_detection_result.jpg\")\n",
    "\tprint(\"Result saved as: road_sign_detection_result.jpg\")\n",
    "else:\n",
    "\tprint(f\"File not found: {test_image}\")"
   ]
  },
  {
   "cell_type": "markdown",
   "id": "6e195db5",
   "metadata": {},
   "source": [
    "## Model Evaluation\n",
    "\n",
    "Evaluate model performance on the test dataset:"
   ]
  },
  {
   "cell_type": "code",
   "execution_count": 18,
   "id": "442bfb72",
   "metadata": {},
   "outputs": [
    {
     "name": "stdout",
     "output_type": "stream",
     "text": [
      "Ultralytics 8.3.167 🚀 Python-3.13.5 torch-2.7.1 CPU (Apple M4 Pro)\n",
      "\u001b[34m\u001b[1mval: \u001b[0mFast image access ✅ (ping: 0.0±0.0 ms, read: 5564.2±1038.9 MB/s, size: 251.7 KB)\n",
      "\u001b[34m\u001b[1mval: \u001b[0mFast image access ✅ (ping: 0.0±0.0 ms, read: 5564.2±1038.9 MB/s, size: 251.7 KB)\n"
     ]
    },
    {
     "name": "stderr",
     "output_type": "stream",
     "text": [
      "\u001b[34m\u001b[1mval: \u001b[0mScanning /Users/gurmatsinghsour/ComputerVisionProject/yolo_dataset/labels/test.cache... 89 images, 0 backgrounds, 0 corrupt: 100%|██████████| 89/89 [00:00<?, ?it/s]\n",
      "\u001b[34m\u001b[1mval: \u001b[0mScanning /Users/gurmatsinghsour/ComputerVisionProject/yolo_dataset/labels/test.cache... 89 images, 0 backgrounds, 0 corrupt: 100%|██████████| 89/89 [00:00<?, ?it/s]\n",
      "                 Class     Images  Instances      Box(P          R      mAP50  mAP50-95): 100%|██████████| 6/6 [00:10<00:00,  1.76s/it]\n",
      "\n"
     ]
    },
    {
     "name": "stdout",
     "output_type": "stream",
     "text": [
      "                   all         89        115      0.984      0.975      0.979      0.921\n",
      "            speedlimit         70         77      0.994          1      0.995      0.942\n",
      "                  stop          8          8      0.976          1      0.995      0.979\n",
      "          trafficlight         10         10      0.971        0.9      0.932      0.855\n",
      "             crosswalk         16         20      0.994          1      0.995      0.908\n",
      "Speed: 0.4ms preprocess, 109.7ms inference, 0.0ms loss, 0.3ms postprocess per image\n",
      "Results saved to \u001b[1m/Users/gurmatsinghsour/ComputerVisionProject/runs/detect/val\u001b[0m\n",
      "Model Performance:\n",
      "  mAP50: 0.979 (97.9%)\n",
      "  Precision: 0.984\n",
      "  Recall: 0.975\n",
      "            speedlimit         70         77      0.994          1      0.995      0.942\n",
      "                  stop          8          8      0.976          1      0.995      0.979\n",
      "          trafficlight         10         10      0.971        0.9      0.932      0.855\n",
      "             crosswalk         16         20      0.994          1      0.995      0.908\n",
      "Speed: 0.4ms preprocess, 109.7ms inference, 0.0ms loss, 0.3ms postprocess per image\n",
      "Results saved to \u001b[1m/Users/gurmatsinghsour/ComputerVisionProject/runs/detect/val\u001b[0m\n",
      "Model Performance:\n",
      "  mAP50: 0.979 (97.9%)\n",
      "  Precision: 0.984\n",
      "  Recall: 0.975\n"
     ]
    }
   ],
   "source": [
    "import os\n",
    "\n",
    "if os.path.exists(\"config.yaml\"):\n",
    "    eval_results = model.val(data=\"config.yaml\", split='test')\n",
    "    print(f\"Model Performance:\")\n",
    "    print(f\"  mAP50: {eval_results.box.map50:.3f} ({eval_results.box.map50*100:.1f}%)\")\n",
    "    print(f\"  Precision: {eval_results.box.mp:.3f}\")\n",
    "    print(f\"  Recall: {eval_results.box.mr:.3f}\")\n",
    "else:\n",
    "    print(\"Config file not found - skipping evaluation\")"
   ]
  },
  {
   "cell_type": "markdown",
   "id": "800bede3",
   "metadata": {},
   "source": [
    "## Batch Prediction\n",
    "\n",
    "Process multiple images from a directory:"
   ]
  },
  {
   "cell_type": "code",
   "execution_count": 19,
   "id": "485035cf",
   "metadata": {},
   "outputs": [
    {
     "name": "stdout",
     "output_type": "stream",
     "text": [
      "Processing 3 images...\n",
      "\n",
      "Image 1: road706.png\n",
      "\n",
      "image 1/1 /Users/gurmatsinghsour/ComputerVisionProject/yolo_dataset/images/test/road706.png: 640x480 2 speedlimits, 40.8ms\n",
      "Speed: 1.4ms preprocess, 40.8ms inference, 0.5ms postprocess per image at shape (1, 3, 640, 480)\n",
      "  Detected: speedlimit (confidence: 0.94)\n",
      "  Detected: speedlimit (confidence: 0.93)\n",
      "  Saved: result_1_road706.png\n",
      "\n",
      "Image 2: road459.png\n",
      "\n",
      "image 1/1 /Users/gurmatsinghsour/ComputerVisionProject/yolo_dataset/images/test/road706.png: 640x480 2 speedlimits, 40.8ms\n",
      "Speed: 1.4ms preprocess, 40.8ms inference, 0.5ms postprocess per image at shape (1, 3, 640, 480)\n",
      "  Detected: speedlimit (confidence: 0.94)\n",
      "  Detected: speedlimit (confidence: 0.93)\n",
      "  Saved: result_1_road706.png\n",
      "\n",
      "Image 2: road459.png\n",
      "\n",
      "image 1/1 /Users/gurmatsinghsour/ComputerVisionProject/yolo_dataset/images/test/road459.png: 640x480 1 speedlimit, 1 trafficlight, 1 crosswalk, 39.7ms\n",
      "Speed: 1.3ms preprocess, 39.7ms inference, 0.4ms postprocess per image at shape (1, 3, 640, 480)\n",
      "  Detected: crosswalk (confidence: 0.96)\n",
      "  Detected: speedlimit (confidence: 0.96)\n",
      "  Detected: trafficlight (confidence: 0.94)\n",
      "  Saved: result_2_road459.png\n",
      "\n",
      "Image 3: road465.png\n",
      "\n",
      "image 1/1 /Users/gurmatsinghsour/ComputerVisionProject/yolo_dataset/images/test/road459.png: 640x480 1 speedlimit, 1 trafficlight, 1 crosswalk, 39.7ms\n",
      "Speed: 1.3ms preprocess, 39.7ms inference, 0.4ms postprocess per image at shape (1, 3, 640, 480)\n",
      "  Detected: crosswalk (confidence: 0.96)\n",
      "  Detected: speedlimit (confidence: 0.96)\n",
      "  Detected: trafficlight (confidence: 0.94)\n",
      "  Saved: result_2_road459.png\n",
      "\n",
      "Image 3: road465.png\n",
      "\n",
      "image 1/1 /Users/gurmatsinghsour/ComputerVisionProject/yolo_dataset/images/test/road465.png: 640x480 1 speedlimit, 1 trafficlight, 1 crosswalk, 38.5ms\n",
      "Speed: 1.3ms preprocess, 38.5ms inference, 0.5ms postprocess per image at shape (1, 3, 640, 480)\n",
      "  Detected: crosswalk (confidence: 0.97)\n",
      "  Detected: speedlimit (confidence: 0.96)\n",
      "  Detected: trafficlight (confidence: 0.96)\n",
      "  Saved: result_3_road465.png\n",
      "image 1/1 /Users/gurmatsinghsour/ComputerVisionProject/yolo_dataset/images/test/road465.png: 640x480 1 speedlimit, 1 trafficlight, 1 crosswalk, 38.5ms\n",
      "Speed: 1.3ms preprocess, 38.5ms inference, 0.5ms postprocess per image at shape (1, 3, 640, 480)\n",
      "  Detected: crosswalk (confidence: 0.97)\n",
      "  Detected: speedlimit (confidence: 0.96)\n",
      "  Detected: trafficlight (confidence: 0.96)\n",
      "  Saved: result_3_road465.png\n"
     ]
    }
   ],
   "source": [
    "image_directory = \"yolo_dataset/images/test\"\n",
    "max_images = 3\n",
    "\n",
    "if os.path.exists(image_directory):\n",
    "    image_files = [f for f in os.listdir(image_directory) \n",
    "                   if f.lower().endswith(('.jpg', '.jpeg', '.png', '.bmp'))]\n",
    "    \n",
    "    if image_files:\n",
    "        image_files = image_files[:max_images]\n",
    "        print(f\"Processing {len(image_files)} images...\")\n",
    "        \n",
    "        class_names = ['speedlimit', 'stop', 'trafficlight', 'crosswalk']\n",
    "        \n",
    "        for i, image_file in enumerate(image_files, 1):\n",
    "            image_path = os.path.join(image_directory, image_file)\n",
    "            print(f\"\\nImage {i}: {image_file}\")\n",
    "            \n",
    "            results = model(image_path)\n",
    "            \n",
    "            boxes = results[0].boxes\n",
    "            if boxes is not None and len(boxes) > 0:\n",
    "                for box in boxes:\n",
    "                    class_id = int(box.cls)\n",
    "                    confidence = float(box.conf)\n",
    "                    print(f\"  Detected: {class_names[class_id]} (confidence: {confidence:.2f})\")\n",
    "            else:\n",
    "                print(\"  No detections found\")\n",
    "            \n",
    "            output_path = f\"result_{i}_{image_file}\"\n",
    "            results[0].save(output_path)\n",
    "            print(f\"  Saved: {output_path}\")\n",
    "    else:\n",
    "        print(f\"No images found in: {image_directory}\")\n",
    "else:\n",
    "    print(f\"Directory not found: {image_directory}\")"
   ]
  },
  {
   "cell_type": "markdown",
   "id": "5215a261",
   "metadata": {},
   "source": [
    "## Usage Instructions\n",
    "\n",
    "### Basic Usage\n",
    "```python\n",
    "from ultralytics import YOLO\n",
    "model = YOLO(\"models/road_sign_detector_final.pt\")\n",
    "results = model(\"your_image.jpg\")\n",
    "results[0].show()\n",
    "```\n",
    "\n",
    "### Change Image Path\n",
    "Replace `test_image = \"test_prediction.jpg\"` with your image path in the prediction cell above.\n",
    "\n",
    "### Change Directory for Batch Processing\n",
    "Replace `image_directory = \"yolo_dataset/images/test\"` with your directory path in the batch processing cell above.\n",
    "\n",
    "### Class Names\n",
    "- 0: speedlimit\n",
    "- 1: stop  \n",
    "- 2: trafficlight\n",
    "- 3: crosswalk"
   ]
  },
  {
   "cell_type": "markdown",
   "id": "096db705",
   "metadata": {},
   "source": [
    "## Live Webcam Prediction\n",
    "\n",
    "Real-time road sign detection using your webcam:"
   ]
  }
 ],
 "metadata": {
  "kernelspec": {
   "display_name": "yolov8_env",
   "language": "python",
   "name": "python3"
  },
  "language_info": {
   "codemirror_mode": {
    "name": "ipython",
    "version": 3
   },
   "file_extension": ".py",
   "mimetype": "text/x-python",
   "name": "python",
   "nbconvert_exporter": "python",
   "pygments_lexer": "ipython3",
   "version": "3.13.5"
  }
 },
 "nbformat": 4,
 "nbformat_minor": 5
}
